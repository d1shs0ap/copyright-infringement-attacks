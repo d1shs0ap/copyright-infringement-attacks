{
 "cells": [
  {
   "cell_type": "code",
   "execution_count": 2,
   "metadata": {},
   "outputs": [],
   "source": [
    "import pickle\n",
    "import torch\n",
    "\n",
    "from ldm.util import instantiate_from_config\n",
    "\n",
    "from torchvision.transforms import ToTensor, ToPILImage\n",
    "import torchvision\n",
    "from PIL import Image\n",
    "\n",
    "from FSSAAD.pytorch_msssim import msssim\n",
    "from torch.nn import functional as F\n",
    "\n",
    "from torcheval.metrics import BinaryAUROC"
   ]
  },
  {
   "cell_type": "code",
   "execution_count": 3,
   "metadata": {},
   "outputs": [],
   "source": [
    "def load_model_from_config(config, ckpt, verbose=False):\n",
    "    print(f\"Loading model from {ckpt}\")\n",
    "    pl_sd = torch.load(ckpt, map_location=\"cpu\")\n",
    "    sd = pl_sd[\"state_dict\"]\n",
    "    config.model.params.ckpt_path = ckpt\n",
    "    model = instantiate_from_config(config.model)\n",
    "    m, u = model.load_state_dict(sd, strict=False)\n",
    "    if len(m) > 0 and verbose:\n",
    "        print(\"missing keys:\")\n",
    "        print(m)\n",
    "    if len(u) > 0 and verbose:\n",
    "        print(\"unexpected keys:\")\n",
    "        print(u)\n",
    "    \n",
    "    return model"
   ]
  },
  {
   "cell_type": "code",
   "execution_count": 4,
   "metadata": {},
   "outputs": [
    {
     "name": "stdout",
     "output_type": "stream",
     "text": [
      "Loading model from models/ldm/text2img-large/model.ckpt\n",
      "LatentDiffusion: Running in eps-prediction mode\n"
     ]
    },
    {
     "ename": "",
     "evalue": "",
     "output_type": "error",
     "traceback": [
      "\u001b[1;31mThe Kernel crashed while executing code in the current cell or a previous cell. \n",
      "\u001b[1;31mPlease review the code in the cell(s) to identify a possible cause of the failure. \n",
      "\u001b[1;31mClick <a href='https://aka.ms/vscodeJupyterKernelCrash'>here</a> for more info. \n",
      "\u001b[1;31mView Jupyter <a href='command:jupyter.viewOutput'>log</a> for further details."
     ]
    }
   ],
   "source": [
    "device = torch.device(f\"cuda:0\" if torch.cuda.is_available() else \"cpu\")\n",
    "\n",
    "with open('config.pkl', 'rb') as f:\n",
    "    config = pickle.load(f)\n",
    "model = load_model_from_config(config, \"models/ldm/text2img-large/model.ckpt\").first_stage_model.to(device)\n",
    "\n",
    "for param in model.parameters():\n",
    "    param.requires_grad = False"
   ]
  },
  {
   "cell_type": "code",
   "execution_count": 4,
   "metadata": {},
   "outputs": [],
   "source": [
    "# load model to PyTorch Tensor\n",
    "def load_image_toTensor(path):\n",
    "    image_path = path\n",
    "    image = Image.open(image_path)  # Load the image using PIL\n",
    "    image = image.convert(\"RGB\")\n",
    "\n",
    "\n",
    "    transform = ToTensor()  # Create a ToTensor transform\n",
    "    input_image_tensor = transform(image)  # Convert image to tensor\n",
    "\n",
    "    # Reshape the tensor to match the expected input shape of the encoder\n",
    "    input_image_tensor = input_image_tensor.unsqueeze(0)  # Add batch dimension\n",
    "    return input_image_tensor"
   ]
  },
  {
   "cell_type": "code",
   "execution_count": 5,
   "metadata": {},
   "outputs": [],
   "source": [
    "def perception_loss(a, b):\n",
    "    msssim_noise_loss = (1 - msssim(a, b)) / 2\n",
    "    f1_noise_loss = F.l1_loss(a, b)\n",
    "    return msssim_noise_loss + f1_noise_loss\n",
    "    # return torch.norm(a-b, p=2)\n",
    "\n",
    "def dists(base_pt, target_pt, poisoned_pt):\n",
    "    decoded_base, _ = model(base_pt)\n",
    "    decoded_target, _ = model(target_pt)\n",
    "    decoded_poisoned, _ = model(poisoned_pt)\n",
    "    \n",
    "    base_decoded_base = perception_loss(base_pt, decoded_base)\n",
    "    target_decoded_target = perception_loss(target_pt, decoded_target)\n",
    "    poisoned_decoded_poisoned = perception_loss(poisoned_pt, decoded_poisoned)\n",
    "\n",
    "    base_poisoned = perception_loss(base_pt, poisoned_pt)\n",
    "    decoded_base_decoded_poisoned = perception_loss(decoded_base, decoded_poisoned)\n",
    "\n",
    "    target_poisoned = perception_loss(target_pt, poisoned_pt)\n",
    "    decoded_target_decoded_poisoned = perception_loss(decoded_target, decoded_poisoned)\n",
    "\n",
    "    # print(f\"Distance between base and its decoded output: {base_decoded_base}\")\n",
    "    # print(f\"Distance between target and its decoded output: {target_decoded_target}\")\n",
    "    # print(f\"Distance between poison and its decoded output: {poisoned_decoded_poisoned}\")\n",
    "\n",
    "    # print(f\"Distance between base and poison: {base_poisoned}\")\n",
    "    # print(f\"Distance between base and poison decoded outputs: {decoded_base_decoded_poisoned}\")\n",
    "\n",
    "    # print(f\"Distance between target and poison: {target_poisoned}\")\n",
    "    # print(f\"Distance between target and poison decoded outputs: {decoded_target_decoded_poisoned}\")\n",
    "\n",
    "    return base_decoded_base, target_decoded_target, poisoned_decoded_poisoned, base_poisoned, decoded_base_decoded_poisoned, target_poisoned, decoded_target_decoded_poisoned\n",
    "\n",
    "def all_dists(bases, targets, poisons):\n",
    "    bdbs, tdts, pdps = [], [], []\n",
    "\n",
    "    for (b, t, p) in zip(bases, targets, poisons):\n",
    "        bdb, tdt, pdp, bp, dbdp, tp, dtdp = dists(b, t, p)\n",
    "        bdbs.append(bdb)\n",
    "        tdts.append(tdt)\n",
    "        pdps.append(pdp)\n",
    "    \n",
    "    return torch.tensor(bdbs), torch.tensor(tdts), torch.tensor(pdps)\n",
    "\n"
   ]
  },
  {
   "cell_type": "code",
   "execution_count": 42,
   "metadata": {},
   "outputs": [],
   "source": [
    "def statistics(bdbs, pdps):\n",
    "    print(\"x_b mean:\", bdbs.mean(), \"x_d mean:\", pdps.mean())\n",
    "    print(\"threshold:\", pdps.min())\n",
    "    print(\"False positive rate:\", sum(bdbs > pdps.min()), \"/\", len(bdbs))\n",
    "    metric = BinaryAUROC()\n",
    "    metric.update(bdbs, torch.zeros(len(bdbs)))\n",
    "    metric.update(pdps, torch.ones(len(pdps)))\n",
    "    print(\"AUROC:\", metric.compute())\n",
    "    metric.reset()"
   ]
  },
  {
   "cell_type": "code",
   "execution_count": 27,
   "metadata": {},
   "outputs": [],
   "source": [
    "# bottle base\n",
    "bottle_bases = [load_image_toTensor(f'poison/bottle_watermark_clipped/{i+1}.png').to(device) for i in range(4)]\n",
    "\n",
    "# bottle target\n",
    "bottle_targets = [load_image_toTensor(f'poison/bottle_watermark_clipped/{i+1}o.png').to(device) for i in range(4)]\n",
    "\n",
    "# bottle poison\n",
    "bottle_poisons = [torch.load(f'poison/bottle_watermark_clipped/img_train_{i+1}/poison_100000.pt').to(device) for i in range(4)]"
   ]
  },
  {
   "cell_type": "code",
   "execution_count": 28,
   "metadata": {},
   "outputs": [],
   "source": [
    "bottle_bdbs, bottle_tdts, bottle_pdps = all_dists(bottle_bases, bottle_targets, bottle_poisons)"
   ]
  },
  {
   "cell_type": "code",
   "execution_count": 43,
   "metadata": {},
   "outputs": [
    {
     "name": "stdout",
     "output_type": "stream",
     "text": [
      "x_b mean: tensor(0.0502) x_d mean: tensor(0.0856)\n",
      "threshold: tensor(0.0703)\n",
      "False positive rate: tensor(1) / 4\n",
      "AUROC: tensor(0.8750, dtype=torch.float64)\n"
     ]
    }
   ],
   "source": [
    "statistics(bottle_bdbs, bottle_pdps)"
   ]
  },
  {
   "cell_type": "code",
   "execution_count": 30,
   "metadata": {},
   "outputs": [],
   "source": [
    "# sunflower base\n",
    "sunflower_bases = [load_image_toTensor(f'poison/sunflowers_clipped/{i}o.jpg').to(device) for i in [2, 5, 6]]\n",
    "\n",
    "# sunflower target\n",
    "sunflower_targets = [load_image_toTensor(f'poison/sunflowers_clipped/{i}.jpg').to(device) for i in [2, 5, 6]]\n",
    "\n",
    "# sunflower poison\n",
    "sunflower_poisons = [torch.load(f'poison/sunflowers_clipped/img_train_{i}/poison_100000.pt').to(device) for i in [2, 5, 6]]"
   ]
  },
  {
   "cell_type": "code",
   "execution_count": 31,
   "metadata": {},
   "outputs": [],
   "source": [
    "sunflower_bdbs, sunflower_tdts, sunflower_pdps = all_dists(sunflower_bases, sunflower_targets, sunflower_poisons)"
   ]
  },
  {
   "cell_type": "code",
   "execution_count": 32,
   "metadata": {},
   "outputs": [
    {
     "name": "stdout",
     "output_type": "stream",
     "text": [
      "x_b mean: tensor(0.0256) x_c mean: tensor(0.0890) x_d mean: tensor(0.1632)\n",
      "threshold: tensor(0.1412)\n",
      "tensor([False, False, False])\n",
      "AUROC: tensor(1., dtype=torch.float64)\n"
     ]
    }
   ],
   "source": [
    "statistics(sunflower_bdbs, sunflower_tdts, sunflower_pdps)"
   ]
  },
  {
   "cell_type": "code",
   "execution_count": 33,
   "metadata": {},
   "outputs": [],
   "source": [
    "# style base\n",
    "style_base_1 = load_image_toTensor('../textual_inversion_2/poison/style_with_cons/water_building.jpg').to(device)\n",
    "style_base_2 = load_image_toTensor('../textual_inversion_2/poison/style_with_cons/water_image.jpg').to(device)\n",
    "style_base_3 = load_image_toTensor('../textual_inversion_2/poison/style_with_cons/water_van_gogh_ht.jpg').to(device)\n",
    "style_bases = [style_base_1, style_base_2, style_base_3]\n",
    "\n",
    "# style target\n",
    "style_target_1 = load_image_toTensor('../textual_inversion_2/poison/style_with_cons/building.jpg').to(device)\n",
    "style_target_2 = load_image_toTensor('../textual_inversion_2/poison/style_with_cons/target_image.jpg').to(device)\n",
    "style_target_3 = load_image_toTensor('../textual_inversion_2/poison/style_with_cons/van_gogh_ht.jpg').to(device)\n",
    "style_targets = [style_target_1, style_target_2, style_target_3]\n",
    "\n",
    "# style poison\n",
    "style_poison_1 = torch.load('../textual_inversion_2/poison/img_train_style_building_clip_2000/poison_100000.pt').to(device)\n",
    "style_poison_2 = torch.load('../textual_inversion_2/poison/img_train_style_river_clip_2000/poison_100000.pt').to(device)\n",
    "style_poison_3 = torch.load('../textual_inversion_2/poison/img_train_style_ht_clip_2000/poison_100000.pt').to(device)\n",
    "style_poisons = [style_poison_1, style_poison_2, style_poison_3]\n"
   ]
  },
  {
   "cell_type": "code",
   "execution_count": 34,
   "metadata": {},
   "outputs": [],
   "source": [
    "style_bdbs, style_tdts, style_pdps = all_dists(style_bases, style_targets, style_poisons)"
   ]
  },
  {
   "cell_type": "code",
   "execution_count": 35,
   "metadata": {},
   "outputs": [
    {
     "name": "stdout",
     "output_type": "stream",
     "text": [
      "x_b mean: tensor(0.0551) x_c mean: tensor(0.1046) x_d mean: tensor(0.2667)\n",
      "threshold: tensor(0.2506)\n",
      "tensor([False, False, False])\n",
      "AUROC: tensor(1., dtype=torch.float64)\n"
     ]
    }
   ],
   "source": [
    "statistics(style_bdbs, style_tdts, style_pdps)"
   ]
  },
  {
   "cell_type": "markdown",
   "metadata": {},
   "source": [
    "# Imagenet"
   ]
  },
  {
   "cell_type": "code",
   "execution_count": 36,
   "metadata": {},
   "outputs": [],
   "source": [
    "from torchvision import datasets, transforms\n",
    "from torch.utils.data import DataLoader\n",
    "import torch"
   ]
  },
  {
   "cell_type": "code",
   "execution_count": 37,
   "metadata": {},
   "outputs": [],
   "source": [
    "# Define transformations\n",
    "transform = transforms.Compose([\n",
    "    transforms.Resize(256),          # Resize to 256x256\n",
    "    transforms.CenterCrop(256),      # Crop the image to 256x256\n",
    "    transforms.ToTensor(),           # Convert image to tensor\n",
    "])\n",
    "\n",
    "# Assuming you have the ImageNet dataset at 'path/to/imagenet'\n",
    "# Note: You will need to replace 'path/to/imagenet' with the actual path to your ImageNet dataset.\n",
    "imagenet_data = datasets.Imagenette(root='.', split='val', transform=transform)\n",
    "\n",
    "# Since we want to load only 100 images, let's use a Subset\n",
    "indices = torch.arange(100)\n",
    "subset_data = torch.utils.data.Subset(imagenet_data, indices)\n",
    "\n",
    "# DataLoader to load the images\n",
    "data_loader = DataLoader(subset_data, batch_size=1, shuffle=False)\n",
    "\n",
    "losses = torch.zeros(100)\n",
    "\n",
    "# Now, you can iterate over data_loader to access your images.\n",
    "for i, (images, labels) in enumerate(data_loader):\n",
    "    # Here, images are your transformed images, and labels are the class labels\n",
    "    image = images.to(device)\n",
    "    decoded, _ = model(image)\n",
    "    losses[i] = perception_loss(image, decoded)"
   ]
  },
  {
   "cell_type": "code",
   "execution_count": 44,
   "metadata": {},
   "outputs": [
    {
     "name": "stdout",
     "output_type": "stream",
     "text": [
      "x_b mean: tensor(0.0655) x_d mean: tensor(0.0856)\n",
      "threshold: tensor(0.0703)\n",
      "False positive rate: tensor(42) / 100\n",
      "AUROC: tensor(0.7550, dtype=torch.float64)\n"
     ]
    }
   ],
   "source": [
    "statistics(losses, bottle_pdps)"
   ]
  },
  {
   "cell_type": "code",
   "execution_count": 45,
   "metadata": {},
   "outputs": [
    {
     "name": "stdout",
     "output_type": "stream",
     "text": [
      "x_b mean: tensor(0.0655) x_d mean: tensor(0.1632)\n",
      "threshold: tensor(0.1412)\n",
      "False positive rate: tensor(2) / 100\n",
      "AUROC: tensor(0.9933, dtype=torch.float64)\n"
     ]
    }
   ],
   "source": [
    "statistics(losses, sunflower_pdps)"
   ]
  },
  {
   "cell_type": "code",
   "execution_count": 46,
   "metadata": {},
   "outputs": [
    {
     "name": "stdout",
     "output_type": "stream",
     "text": [
      "x_b mean: tensor(0.0655) x_d mean: tensor(0.2667)\n",
      "threshold: tensor(0.2506)\n",
      "False positive rate: tensor(0) / 100\n",
      "AUROC: tensor(1., dtype=torch.float64)\n"
     ]
    }
   ],
   "source": [
    "statistics(losses, style_pdps)"
   ]
  },
  {
   "cell_type": "code",
   "execution_count": null,
   "metadata": {},
   "outputs": [],
   "source": []
  }
 ],
 "metadata": {
  "kernelspec": {
   "display_name": "finetuningattacks",
   "language": "python",
   "name": "python3"
  },
  "language_info": {
   "codemirror_mode": {
    "name": "ipython",
    "version": 3
   },
   "file_extension": ".py",
   "mimetype": "text/x-python",
   "name": "python",
   "nbconvert_exporter": "python",
   "pygments_lexer": "ipython3",
   "version": "3.8.10"
  }
 },
 "nbformat": 4,
 "nbformat_minor": 2
}
